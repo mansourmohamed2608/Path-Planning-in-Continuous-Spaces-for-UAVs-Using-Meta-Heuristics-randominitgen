{
 "cells": [
  {
   "cell_type": "code",
   "execution_count": 1,
   "metadata": {},
   "outputs": [],
   "source": [
    "import numpy as np"
   ]
  },
  {
   "cell_type": "code",
   "execution_count": 1,
   "metadata": {},
   "outputs": [
    {
     "ename": "KeyboardInterrupt",
     "evalue": "",
     "output_type": "error",
     "traceback": [
      "\u001b[1;31m---------------------------------------------------------------------------\u001b[0m",
      "\u001b[1;31mKeyboardInterrupt\u001b[0m                         Traceback (most recent call last)",
      "\u001b[1;32m~\\AppData\\Local\\Temp\\ipykernel_26492\\429992369.py\u001b[0m in \u001b[0;36m<module>\u001b[1;34m\u001b[0m\n\u001b[0;32m     51\u001b[0m \u001b[0mpoint2\u001b[0m \u001b[1;33m=\u001b[0m \u001b[1;33m(\u001b[0m\u001b[1;36m4\u001b[0m\u001b[1;33m,\u001b[0m \u001b[1;36m2\u001b[0m\u001b[1;33m,\u001b[0m \u001b[1;36m3\u001b[0m\u001b[1;33m)\u001b[0m\u001b[1;33m\u001b[0m\u001b[0m\n\u001b[0;32m     52\u001b[0m \u001b[1;33m\u001b[0m\u001b[0m\n\u001b[1;32m---> 53\u001b[1;33m \u001b[0mresult\u001b[0m \u001b[1;33m=\u001b[0m \u001b[0mbresenham3D\u001b[0m\u001b[1;33m(\u001b[0m\u001b[1;33m*\u001b[0m\u001b[0mpoint1\u001b[0m\u001b[1;33m,\u001b[0m \u001b[1;33m*\u001b[0m\u001b[0mpoint2\u001b[0m\u001b[1;33m)\u001b[0m\u001b[1;33m\u001b[0m\u001b[0m\n\u001b[0m\u001b[0;32m     54\u001b[0m \u001b[0mprint\u001b[0m\u001b[1;33m(\u001b[0m\u001b[0mresult\u001b[0m\u001b[1;33m)\u001b[0m\u001b[1;33m\u001b[0m\u001b[0m\n",
      "\u001b[1;32m~\\AppData\\Local\\Temp\\ipykernel_26492\\429992369.py\u001b[0m in \u001b[0;36mbresenham3D\u001b[1;34m(x1, y1, z1, x2, y2, z2)\u001b[0m\n\u001b[0;32m     36\u001b[0m \u001b[1;33m\u001b[0m\u001b[0m\n\u001b[0;32m     37\u001b[0m         \u001b[1;32mif\u001b[0m \u001b[0me2\u001b[0m \u001b[1;33m>\u001b[0m \u001b[1;33m-\u001b[0m\u001b[0mdz\u001b[0m\u001b[1;33m:\u001b[0m\u001b[1;33m\u001b[0m\u001b[0m\n\u001b[1;32m---> 38\u001b[1;33m             \u001b[0merr2\u001b[0m \u001b[1;33m-=\u001b[0m \u001b[0mdz\u001b[0m\u001b[1;33m\u001b[0m\u001b[0m\n\u001b[0m\u001b[0;32m     39\u001b[0m             \u001b[0mx\u001b[0m \u001b[1;33m+=\u001b[0m \u001b[0msx\u001b[0m\u001b[1;33m\u001b[0m\u001b[0m\n\u001b[0;32m     40\u001b[0m         \u001b[1;32mif\u001b[0m \u001b[0me2\u001b[0m \u001b[1;33m<\u001b[0m \u001b[0mdx\u001b[0m\u001b[1;33m:\u001b[0m\u001b[1;33m\u001b[0m\u001b[0m\n",
      "\u001b[1;31mKeyboardInterrupt\u001b[0m: "
     ]
    }
   ],
   "source": [
    "def bresenham3D(x1, y1, z1, x2, y2, z2):\n",
    "    points = []\n",
    "\n",
    "    # Calculate differences and absolute differences\n",
    "    dx = abs(x2 - x1)\n",
    "    dy = abs(y2 - y1)\n",
    "    dz = abs(z2 - z1)\n",
    "\n",
    "    # Determine the sign of the differences\n",
    "    sx = 1 if x1 < x2 else -1\n",
    "    sy = 1 if y1 < y2 else -1\n",
    "    sz = 1 if z1 < z2 else -1\n",
    "\n",
    "    # Initialize error variables\n",
    "    err1 = dx - dy\n",
    "    err2 = dx - dz\n",
    "\n",
    "    # Set the starting point\n",
    "    x, y, z = x1, y1, z1\n",
    "\n",
    "    while x != x2 or y != y2 or z != z2:\n",
    "        # Add the current point to the list of points\n",
    "        points.append((x, y, z))\n",
    "\n",
    "        print(points)\n",
    "\n",
    "        # Calculate error terms\n",
    "        e1 = err1 * 2\n",
    "        e2 = err2 * 2\n",
    "\n",
    "        # Adjust the error terms based on the step directions\n",
    "        if e1 > -dy:\n",
    "            err1 -= dy\n",
    "            x += sx\n",
    "        if e1 < dx:\n",
    "            err1 += dx\n",
    "            y += sy\n",
    "\n",
    "        if e2 > -dz:\n",
    "            err2 -= dz\n",
    "            x += sx\n",
    "        if e2 < dx:\n",
    "            err2 += dx\n",
    "            z += sz\n",
    "\n",
    "    # Add the last point to the list\n",
    "    points.append((x2, y2, z2))\n",
    "\n",
    "    return points\n",
    "\n",
    "# Example usage:\n",
    "point1 = (0, 0, 0)\n",
    "point2 = (4, 2, 3)\n",
    "\n",
    "result = bresenham3D(*point1, *point2)\n",
    "print(result)\n"
   ]
  },
  {
   "cell_type": "code",
   "execution_count": 2,
   "metadata": {},
   "outputs": [],
   "source": [
    "def euclidean_distance(point1, point2):\n",
    "    \"\"\"\n",
    "    Calculate the Euclidean distance between two 3D points.\n",
    "\n",
    "    Parameters:\n",
    "    point1 (tuple): The first 3D point (x, y, z).\n",
    "    point2 (tuple): The second 3D point (x, y, z).\n",
    "\n",
    "    Returns:\n",
    "    float: The Euclidean distance between point1 and point2.\n",
    "    \"\"\"\n",
    "    return np.linalg.norm(np.array(point1) - np.array(point2))"
   ]
  },
  {
   "cell_type": "code",
   "execution_count": 4,
   "metadata": {},
   "outputs": [],
   "source": [
    "def calculate_single_path_fitness(x, ps, pt, constant_speed, energy_weight):\n",
    "    \"\"\"\n",
    "    Calculate the total distance and energy consumption for a single path x.\n",
    "\n",
    "    Parameters:\n",
    "    x (list of tuples): A list of control points defining the path.\n",
    "    ps (tuple): The start point (x, y, z).\n",
    "    pt (tuple): The target point (x, y, z).\n",
    "    constant_speed (float): The constant speed of the drone.\n",
    "    energy_weight (float): The weight of energy consumption in the fitness function.\n",
    "\n",
    "    Returns:\n",
    "        float: The fitness value for the path.\n",
    "    \"\"\"\n",
    "    num_points = len(x)\n",
    "    if num_points < 2:\n",
    "        return 0.0  # No movement if there are no control points\n",
    "\n",
    "    total_distance = euclidean_distance(ps, x[0])  # Distance from start to the first control point\n",
    "\n",
    "    # Distance between all control points\n",
    "    for i in range(1, num_points - 1):\n",
    "        total_distance += euclidean_distance(x[i], x[i + 1])\n",
    "\n",
    "    total_distance += euclidean_distance(x[-1], pt)  # Distance from the last control point to the target\n",
    "\n",
    "\n",
    "    # Calculate energy consumption based on distance and constant speed\n",
    "    energy_consumed = total_distance / constant_speed\n",
    "\n",
    "    # Calculate the fitness value as a weighted sum of time and energy\n",
    "    fitness = total_distance + energy_weight * energy_consumed\n",
    "\n",
    "    return fitness\n",
    "\n"
   ]
  },
  {
   "cell_type": "code",
   "execution_count": 12,
   "metadata": {},
   "outputs": [
    {
     "name": "stdout",
     "output_type": "stream",
     "text": [
      "[1]\n"
     ]
    }
   ],
   "source": [
    "import numpy as np\n",
    "elite_indices = np.argsort([3,5,2,4])\n",
    "print(elite_indices[-2:])"
   ]
  },
  {
   "cell_type": "code",
   "execution_count": 7,
   "metadata": {},
   "outputs": [],
   "source": [
    "\n",
    "def calculate_total_fitness(drone_paths, ps_list, pt_list, constant_speed, energy_weight):\n",
    "    \"\"\"\n",
    "    Calculate the total distance for multiple drones' paths.\n",
    "\n",
    "    Parameters:\n",
    "    drone_paths (list of lists): A list of paths, each defined as a list of control points.\n",
    "    ps_list (list of tuples): A list of start points for each drone.\n",
    "    pt_list (list of tuples): A list of target points for each drone.\n",
    "    constant_speed (float): The constant speed of the drone.\n",
    "    energy_weight (float): The weight of energy consumption in the fitness function.\n",
    "\n",
    "    Returns:\n",
    "    float: The total fitness value traveled along all paths from ps to pt.\n",
    "    \"\"\"\n",
    "    total_fitness = 0.0\n",
    "\n",
    "    for i in range(len(drone_paths)):\n",
    "        path = drone_paths[i]\n",
    "        ps = ps_list[i]\n",
    "        pt = pt_list[i]\n",
    "        fitness = calculate_single_path_fitness(path, ps, pt, constant_speed, energy_weight)\n",
    "        total_fitness += fitness\n",
    "\n",
    "    return total_fitness\n",
    "\n"
   ]
  },
  {
   "cell_type": "code",
   "execution_count": null,
   "metadata": {},
   "outputs": [],
   "source": [
    "def check_energy_constraint(ps, pt, drone_paths, constant_speed, maximum_energy):\n",
    "    \"\"\"\n",
    "    Check if the total energy consumed by all drones satisfies the energy constraint.\n",
    "\n",
    "    Args:\n",
    "        drone_paths (list): List of drone paths where each path is a list of 3D points.\n",
    "        constant_speed (float): Constant speed of the drones.\n",
    "        maximum_energy (float): Maximum allowable total energy consumption.\n",
    "\n",
    "    Returns:\n",
    "        bool: True if the energy constraint is satisfied, False otherwise.\n",
    "    \"\"\"\n",
    "    total_energy = 0.0\n",
    "    for path, psi, pti in zip(drone_paths, ps, pt):\n",
    "        total_distance = calculate_single_path_fitness(path, psi, pti, constant_speed, 0)\n",
    "        energy_consumed = total_distance / constant_speed\n",
    "        total_energy += energy_consumed\n",
    "\n",
    "    if total_energy <= maximum_energy:\n",
    "        return True  # Energy constraint is satisfied\n",
    "    else:\n",
    "        return False  # Energy constraint is violated"
   ]
  },
  {
   "cell_type": "code",
   "execution_count": 9,
   "metadata": {},
   "outputs": [],
   "source": [
    "def check_collision_constraint(drone_paths, obstacle_list):\n",
    "    \"\"\"\n",
    "    Check if drone paths collide with each other or with obstacles.\n",
    "\n",
    "    Args:\n",
    "        drone_paths (list): List of drone paths where each path is a list of 3D points.\n",
    "        obstacle_list (list): List of obstacle representations.\n",
    "\n",
    "    Returns:\n",
    "        bool: True if the collision constraint is satisfied, False otherwise.\n",
    "    \"\"\"\n",
    "    for i in range(len(drone_paths)):\n",
    "        for j in range(i + 1, len(drone_paths)):\n",
    "            path1 = drone_paths[i]\n",
    "            path2 = drone_paths[j]\n",
    "            for point1 in path1:\n",
    "                for point2 in path2:\n",
    "                    if euclidean_distance(point1, point2) < minimum_collision_distance:\n",
    "                        return False  # Collisions detected\n",
    "\n",
    "    for path in drone_paths:\n",
    "        for point in path:\n",
    "            for obstacle in obstacle_list:\n",
    "                if euclidean_distance(point, obstacle) < minimum_collision_distance:\n",
    "                    return False  # Collisions with obstacles detected\n",
    "\n",
    "    return True  # No collisions with other drones or obstacles\n"
   ]
  },
  {
   "cell_type": "code",
   "execution_count": 8,
   "metadata": {},
   "outputs": [
    {
     "name": "stdout",
     "output_type": "stream",
     "text": [
      "Total Fitness for All Drones: 9.899999999999999\n"
     ]
    }
   ],
   "source": [
    "# Example usage:\n",
    "# Define paths for three drones\n",
    "drone1_path = [(0, 0, 0), (1, 0, 0), (1, 1, 0), (2, 1, 0)]\n",
    "drone2_path = [(0, 0, 0), (0, 1, 0), (1, 1, 0), (1, 2, 0)]\n",
    "drone3_path = [(0, 0, 0), (1, 0, 0), (1, 1, 0), (2, 1, 0)]\n",
    "\n",
    "# Define start and target points for the drones\n",
    "ps_list = [(0, 0, 0), (0, 0, 0), (0, 0, 0)]\n",
    "pt_list = [(2, 2, 0), (2, 2, 0), (2, 2, 0)]\n",
    "\n",
    "# Constant speed of drones (e.g., 1.0 units per time step)\n",
    "constant_speed = 1.0\n",
    "\n",
    "# Weight for energy consumption in the fitness function\n",
    "energy_weight = 0.1\n",
    "\n",
    "# Create a list of drone paths\n",
    "drone_paths = [drone1_path, drone2_path, drone3_path]\n",
    "\n",
    "# Calculate the total fitness for all drones\n",
    "total_fitness = calculate_total_fitness(drone_paths, ps_list, pt_list, constant_speed, energy_weight)\n",
    "print(\"Total Fitness for All Drones:\", total_fitness)"
   ]
  },
  {
   "cell_type": "code",
   "execution_count": null,
   "metadata": {},
   "outputs": [],
   "source": []
  }
 ],
 "metadata": {
  "kernelspec": {
   "display_name": "Python 3",
   "language": "python",
   "name": "python3"
  },
  "language_info": {
   "codemirror_mode": {
    "name": "ipython",
    "version": 3
   },
   "file_extension": ".py",
   "mimetype": "text/x-python",
   "name": "python",
   "nbconvert_exporter": "python",
   "pygments_lexer": "ipython3",
   "version": "3.7.0"
  }
 },
 "nbformat": 4,
 "nbformat_minor": 2
}
